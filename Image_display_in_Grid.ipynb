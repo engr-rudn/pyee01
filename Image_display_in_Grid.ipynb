{
 "cells": [
  {
   "cell_type": "code",
   "execution_count": null,
   "metadata": {},
   "outputs": [],
   "source": [
    "try:\n",
    "    import ipyplot\n",
    "except:\n",
    "    import sys\n",
    "#     sys.path.append('../')\n",
    "    ! {sys.executable} -m pip install git+https://github.com/karolzak/ipyplot\n",
    "    import ipyplot"
   ]
  },
  {
   "cell_type": "code",
   "execution_count": 94,
   "metadata": {},
   "outputs": [
    {
     "data": {
      "text/html": [
       "<div style=\"display: inline-block; width: 220px; vertical-align: top; text-align: center;\"><h4 style=\"font-size: 12px\">test1</h4><h4 style=\"font-size: 9px; padding-left: 10px; padding-right: 10px; width: 90%; word-wrap: break-word; white-space: normal;\">https://ad-thumbnails.s3.amazonaws.com/LC81000202017030LGN00.jpg</h4><img src=\"https://ad-thumbnails.s3.amazonaws.com/LC81000202017030LGN00.jpg\" style=\"margin: 1px; width: 200px; border: 2px solid #ddd;\"/></div><div style=\"display: inline-block; width: 220px; vertical-align: top; text-align: center;\"><h4 style=\"font-size: 12px\">test2</h4><h4 style=\"font-size: 9px; padding-left: 10px; padding-right: 10px; width: 90%; word-wrap: break-word; white-space: normal;\">https://ad-thumbnails.s3.amazonaws.com/LC81000202017030LGN00.jpg</h4><img src=\"https://ad-thumbnails.s3.amazonaws.com/LC81000202017030LGN00.jpg\" style=\"margin: 1px; width: 200px; border: 2px solid #ddd;\"/></div><div style=\"display: inline-block; width: 220px; vertical-align: top; text-align: center;\"><h4 style=\"font-size: 12px\">test3</h4><h4 style=\"font-size: 9px; padding-left: 10px; padding-right: 10px; width: 90%; word-wrap: break-word; white-space: normal;\">https://ad-thumbnails.s3.amazonaws.com/LC81000202017030LGN00.jpg</h4><img src=\"https://ad-thumbnails.s3.amazonaws.com/LC81000202017030LGN00.jpg\" style=\"margin: 1px; width: 200px; border: 2px solid #ddd;\"/></div><div style=\"display: inline-block; width: 220px; vertical-align: top; text-align: center;\"><h4 style=\"font-size: 12px\">test4</h4><h4 style=\"font-size: 9px; padding-left: 10px; padding-right: 10px; width: 90%; word-wrap: break-word; white-space: normal;\">https://ad-thumbnails.s3.amazonaws.com/LC81000202017030LGN00.jpg</h4><img src=\"https://ad-thumbnails.s3.amazonaws.com/LC81000202017030LGN00.jpg\" style=\"margin: 1px; width: 200px; border: 2px solid #ddd;\"/></div><div style=\"display: inline-block; width: 220px; vertical-align: top; text-align: center;\"><h4 style=\"font-size: 12px\">test1</h4><h4 style=\"font-size: 9px; padding-left: 10px; padding-right: 10px; width: 90%; word-wrap: break-word; white-space: normal;\">https://ad-thumbnails.s3.amazonaws.com/LC81000202017030LGN00.jpg</h4><img src=\"https://ad-thumbnails.s3.amazonaws.com/LC81000202017030LGN00.jpg\" style=\"margin: 1px; width: 200px; border: 2px solid #ddd;\"/></div><div style=\"display: inline-block; width: 220px; vertical-align: top; text-align: center;\"><h4 style=\"font-size: 12px\">test2</h4><h4 style=\"font-size: 9px; padding-left: 10px; padding-right: 10px; width: 90%; word-wrap: break-word; white-space: normal;\">https://ad-thumbnails.s3.amazonaws.com/LC81000202017030LGN00.jpg</h4><img src=\"https://ad-thumbnails.s3.amazonaws.com/LC81000202017030LGN00.jpg\" style=\"margin: 1px; width: 200px; border: 2px solid #ddd;\"/></div><div style=\"display: inline-block; width: 220px; vertical-align: top; text-align: center;\"><h4 style=\"font-size: 12px\">test3</h4><h4 style=\"font-size: 9px; padding-left: 10px; padding-right: 10px; width: 90%; word-wrap: break-word; white-space: normal;\">https://ad-thumbnails.s3.amazonaws.com/LC81000202017030LGN00.jpg</h4><img src=\"https://ad-thumbnails.s3.amazonaws.com/LC81000202017030LGN00.jpg\" style=\"margin: 1px; width: 200px; border: 2px solid #ddd;\"/></div><div style=\"display: inline-block; width: 220px; vertical-align: top; text-align: center;\"><h4 style=\"font-size: 12px\">test4</h4><h4 style=\"font-size: 9px; padding-left: 10px; padding-right: 10px; width: 90%; word-wrap: break-word; white-space: normal;\">https://ad-thumbnails.s3.amazonaws.com/LC81000202017030LGN00.jpg</h4><img src=\"https://ad-thumbnails.s3.amazonaws.com/LC81000202017030LGN00.jpg\" style=\"margin: 1px; width: 200px; border: 2px solid #ddd;\"/></div>"
      ],
      "text/plain": [
       "<IPython.core.display.HTML object>"
      ]
     },
     "metadata": {},
     "output_type": "display_data"
    }
   ],
   "source": [
    "import ipyplot\n",
    "import rasterio\n",
    "import numpy as np\n",
    "from PIL import Image\n",
    "\n",
    "images =['https://ad-thumbnails.s3.amazonaws.com/LC81000202017030LGN00.jpg',\\\n",
    "         'https://ad-thumbnails.s3.amazonaws.com/LC81000202017030LGN00.jpg',\\\n",
    "         'https://ad-thumbnails.s3.amazonaws.com/LC81000202017030LGN00.jpg',\\\n",
    "         'https://ad-thumbnails.s3.amazonaws.com/LC81000202017030LGN00.jpg',\\\n",
    "         'https://ad-thumbnails.s3.amazonaws.com/LC81000202017030LGN00.jpg',\\\n",
    "         'https://ad-thumbnails.s3.amazonaws.com/LC81000202017030LGN00.jpg',\\\n",
    "         'https://ad-thumbnails.s3.amazonaws.com/LC81000202017030LGN00.jpg',\\\n",
    "         'https://ad-thumbnails.s3.amazonaws.com/LC81000202017030LGN00.jpg']\n",
    "# images = np.asarray(images, dtype=str) # conversion to nummpy is pretty important here\n",
    "# images = [image.replace('\\\\', '/') for image in images]\n",
    "# image = Image.open('https://ad-thumbnails.s3.amazonaws.com/LC81000202017030LGN00.jpg')\n",
    "labels = ['test1','test2','test3','test4','test1','test2','test3','test4']\n",
    "ipyplot.plot_images(images, labels, img_width=200)"
   ]
  }
 ],
 "metadata": {
  "kernelspec": {
   "display_name": "Python 3",
   "language": "python",
   "name": "python3"
  },
  "language_info": {
   "codemirror_mode": {
    "name": "ipython",
    "version": 3
   },
   "file_extension": ".py",
   "mimetype": "text/x-python",
   "name": "python",
   "nbconvert_exporter": "python",
   "pygments_lexer": "ipython3",
   "version": "3.7.9"
  }
 },
 "nbformat": 4,
 "nbformat_minor": 4
}
