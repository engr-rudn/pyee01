{
 "cells": [
  {
   "cell_type": "code",
   "execution_count": 3,
   "metadata": {},
   "outputs": [
    {
     "name": "stdout",
     "output_type": "stream",
     "text": [
      "rasterio package not installed. Installing ...\n"
     ]
    },
    {
     "ename": "CalledProcessError",
     "evalue": "Command '['python', '-m', 'pip', 'install', 'rasterio']' returned non-zero exit status 1.",
     "output_type": "error",
     "traceback": [
      "\u001b[1;31m---------------------------------------------------------------------------\u001b[0m",
      "\u001b[1;31mCalledProcessError\u001b[0m                        Traceback (most recent call last)",
      "\u001b[1;32m<ipython-input-3-13c7358bb9c2>\u001b[0m in \u001b[0;36m<module>\u001b[1;34m\u001b[0m\n\u001b[0;32m      9\u001b[0m \u001b[1;32melse\u001b[0m\u001b[1;33m:\u001b[0m\u001b[1;33m\u001b[0m\u001b[1;33m\u001b[0m\u001b[0m\n\u001b[0;32m     10\u001b[0m     \u001b[0mprint\u001b[0m\u001b[1;33m(\u001b[0m\u001b[1;34m'rasterio package not installed. Installing ...'\u001b[0m\u001b[1;33m)\u001b[0m\u001b[1;33m\u001b[0m\u001b[1;33m\u001b[0m\u001b[0m\n\u001b[1;32m---> 11\u001b[1;33m     \u001b[0msubprocess\u001b[0m\u001b[1;33m.\u001b[0m\u001b[0mcheck_call\u001b[0m\u001b[1;33m(\u001b[0m\u001b[1;33m[\u001b[0m\u001b[1;34m\"python\"\u001b[0m\u001b[1;33m,\u001b[0m \u001b[1;34m'-m'\u001b[0m\u001b[1;33m,\u001b[0m \u001b[1;34m'pip'\u001b[0m\u001b[1;33m,\u001b[0m \u001b[1;34m'install'\u001b[0m\u001b[1;33m,\u001b[0m \u001b[1;34m'rasterio'\u001b[0m\u001b[1;33m]\u001b[0m\u001b[1;33m)\u001b[0m\u001b[1;33m\u001b[0m\u001b[1;33m\u001b[0m\u001b[0m\n\u001b[0m",
      "\u001b[1;32m~\\AppData\\Local\\ESRI\\conda\\envs\\pd\\lib\\subprocess.py\u001b[0m in \u001b[0;36mcheck_call\u001b[1;34m(*popenargs, **kwargs)\u001b[0m\n\u001b[0;32m    309\u001b[0m         \u001b[1;32mif\u001b[0m \u001b[0mcmd\u001b[0m \u001b[1;32mis\u001b[0m \u001b[1;32mNone\u001b[0m\u001b[1;33m:\u001b[0m\u001b[1;33m\u001b[0m\u001b[1;33m\u001b[0m\u001b[0m\n\u001b[0;32m    310\u001b[0m             \u001b[0mcmd\u001b[0m \u001b[1;33m=\u001b[0m \u001b[0mpopenargs\u001b[0m\u001b[1;33m[\u001b[0m\u001b[1;36m0\u001b[0m\u001b[1;33m]\u001b[0m\u001b[1;33m\u001b[0m\u001b[1;33m\u001b[0m\u001b[0m\n\u001b[1;32m--> 311\u001b[1;33m         \u001b[1;32mraise\u001b[0m \u001b[0mCalledProcessError\u001b[0m\u001b[1;33m(\u001b[0m\u001b[0mretcode\u001b[0m\u001b[1;33m,\u001b[0m \u001b[0mcmd\u001b[0m\u001b[1;33m)\u001b[0m\u001b[1;33m\u001b[0m\u001b[1;33m\u001b[0m\u001b[0m\n\u001b[0m\u001b[0;32m    312\u001b[0m     \u001b[1;32mreturn\u001b[0m \u001b[1;36m0\u001b[0m\u001b[1;33m\u001b[0m\u001b[1;33m\u001b[0m\u001b[0m\n\u001b[0;32m    313\u001b[0m \u001b[1;33m\u001b[0m\u001b[0m\n",
      "\u001b[1;31mCalledProcessError\u001b[0m: Command '['python', '-m', 'pip', 'install', 'rasterio']' returned non-zero exit status 1."
     ]
    }
   ],
   "source": [
    "import subprocess\n",
    "import sys\n",
    "\n",
    "reqs = subprocess.check_output([sys.executable, '-m', 'pip', 'freeze'])\n",
    "installed_packages = [r.decode().split('==')[0] for r in reqs.split()]\n",
    "#print(installed_packages)\n",
    "if 'rasterio' in installed_packages:\n",
    "    import rasterio\n",
    "else:\n",
    "    print('rasterio package not installed. Installing ...')\n",
    "    subprocess.check_call([\"python\", '-m', 'pip', 'install', 'rasterio'])"
   ]
  },
  {
   "cell_type": "code",
   "execution_count": null,
   "metadata": {},
   "outputs": [],
   "source": [
    "import sys\n",
    "sys.executable"
   ]
  },
  {
   "cell_type": "code",
   "execution_count": 9,
   "metadata": {},
   "outputs": [
    {
     "name": "stdout",
     "output_type": "stream",
     "text": [
      "Importing rasterio\n"
     ]
    }
   ],
   "source": [
    "# ======================================================================================\n",
    "# == Fix any missing Module, that need to be installed with conda. [Windows System] ==\n",
    "# ======================================================================================\n",
    "import importlib, os\n",
    "def import_neccessary_modules(modname:str)->None:\n",
    "    '''\n",
    "        Import a Module,\n",
    "        and if that fails, try to use the Command Window conda to install it,\n",
    "        if that fails, because conda is not in the Path,\n",
    "        try find the location of conda and again attempt to install from the Command Window.\n",
    "    '''\n",
    "    try:\n",
    "        # If Module it is already installed, try to Import it\n",
    "        importlib.import_module(modname)\n",
    "        print(f\"Importing {modname}\")\n",
    "    except ImportError:\n",
    "        # Error if Module is not installed Yet,  the '\\033[93m' is just code to print in certain colors\n",
    "        print(f\"\\033[93mSince you don't have the Python Module [{modname}] installed!\")\n",
    "        print(\"I will need to install it using Python's conda command.\\033[0m\")\n",
    "        if os.system('conda --version') == 0:\n",
    "            # No error from running conda in the Command Window, therefor conda is in the %PATH%\n",
    "            os.system(f'conda install -c conda-forge {modname}')\n",
    "        else:\n",
    "            # Error, conda is NOT in the Path!! So I'll try to find it.\n",
    "            conda_location_attempt_1 = sys.executable.replace(\"python.exe\", \"\") + \"conda\"\n",
    "            conda_location_attempt_2 = sys.executable.replace(\"python.exe\", \"\") + \"scripts\\conda\"\n",
    "            if os.path.exists(conda_location_attempt_1):\n",
    "                # The Attempt #1 File exists!!!\n",
    "                os.system(conda_location_attempt_1  + \" install -c conda-forge \" + modname)\n",
    "            elif os.path.exists(conda_location_attempt_2):\n",
    "                # The Attempt #2 File exists!!!\n",
    "                os.system(conda_location_attempt_2 + \" install -c conda-forge  \" + modname)\n",
    "            else:\n",
    "                # Neither Attempts found the conda file, So i Fail...\n",
    "                print(f\"\\033[91mAbort!!!  I can't find conda program!\")\n",
    "                print(f\"You'll need to manually install the Module: {modname} in order for this program to work.\")\n",
    "                print(f\"Find the conda file on your computer and in the CMD Command window...\")\n",
    "                print(f\"   in that directory, type   conda install -c conda-forge {modname}\\033[0m\")\n",
    "                exit()\n",
    "\n",
    "\n",
    "import_neccessary_modules('rasterio')"
   ]
  },
  {
   "cell_type": "code",
   "execution_count": 6,
   "metadata": {},
   "outputs": [
    {
     "ename": "ModuleNotFoundError",
     "evalue": "No module named 'rasterio'",
     "output_type": "error",
     "traceback": [
      "\u001b[1;31m---------------------------------------------------------------------------\u001b[0m",
      "\u001b[1;31mModuleNotFoundError\u001b[0m                       Traceback (most recent call last)",
      "\u001b[1;32m<ipython-input-6-93e874cff649>\u001b[0m in \u001b[0;36m<module>\u001b[1;34m\u001b[0m\n\u001b[1;32m----> 1\u001b[1;33m \u001b[1;32mimport\u001b[0m \u001b[0mrasterio\u001b[0m\u001b[1;33m\u001b[0m\u001b[1;33m\u001b[0m\u001b[0m\n\u001b[0m\u001b[0;32m      2\u001b[0m \u001b[0mprint\u001b[0m\u001b[1;33m(\u001b[0m\u001b[1;34m'Landsat on Google:'\u001b[0m\u001b[1;33m)\u001b[0m\u001b[1;33m\u001b[0m\u001b[1;33m\u001b[0m\u001b[0m\n\u001b[0;32m      3\u001b[0m \u001b[0mpath\u001b[0m\u001b[1;33m=\u001b[0m\u001b[1;34m'042'\u001b[0m\u001b[1;33m\u001b[0m\u001b[1;33m\u001b[0m\u001b[0m\n\u001b[0;32m      4\u001b[0m \u001b[0mrow\u001b[0m\u001b[1;33m=\u001b[0m\u001b[1;34m'034'\u001b[0m\u001b[1;33m\u001b[0m\u001b[1;33m\u001b[0m\u001b[0m\n\u001b[0;32m      5\u001b[0m \u001b[0mscene_id\u001b[0m\u001b[1;33m=\u001b[0m\u001b[1;34m'LC08_L1TP_042034_20170616_20170629_01_T1'\u001b[0m\u001b[1;33m\u001b[0m\u001b[1;33m\u001b[0m\u001b[0m\n",
      "\u001b[1;31mModuleNotFoundError\u001b[0m: No module named 'rasterio'"
     ]
    }
   ],
   "source": [
    "import rasterio\n",
    "print('Landsat on Google:')\n",
    "path='042'\n",
    "row='034'\n",
    "scene_id='LC08_L1TP_042034_20170616_20170629_01_T1'\n",
    "filepath= 'https://storage.googleapis.com/gcp-public-data-landsat/LC08/01/{}/{}/{}/{}_B4.TIF'.format(path,row,scene_id,scene_id)\n",
    "print(filepath)\n",
    "#filepath = 'https://storage.googleapis.com/gcp-public-data-landsat/LC08/01/042/034/LC08_L1TP_042034_20170616_20170629_01_T1/LC08_L1TP_042034_20170616_20170629_01_T1_B4.TIF'\n",
    "#filepath= 'https://storage.googleapis.com/gcp-public-data-landsat/LC08/01/042/034/LC08_L1TP_042034_20170616_20170629_01_T1/LC08_L1TP_042034_20170616_20170629_01_T1_B4.TIF'\n",
    "#filepath = 'https://storage.googleapis.com/gcp-public-data-landsat/L8/169/050/LC81690502015268LGN00/LC81690502015268LGN00_B8.TIF'\n",
    "with rasterio.open(filepath) as src:\n",
    "    print(src.profile)"
   ]
  }
 ],
 "metadata": {
  "kernelspec": {
   "display_name": "Python 3",
   "language": "python",
   "name": "python3"
  },
  "language_info": {
   "codemirror_mode": {
    "name": "ipython",
    "version": 3
   },
   "file_extension": ".py",
   "mimetype": "text/x-python",
   "name": "python",
   "nbconvert_exporter": "python",
   "pygments_lexer": "ipython3",
   "version": "3.7.9"
  }
 },
 "nbformat": 4,
 "nbformat_minor": 4
}
